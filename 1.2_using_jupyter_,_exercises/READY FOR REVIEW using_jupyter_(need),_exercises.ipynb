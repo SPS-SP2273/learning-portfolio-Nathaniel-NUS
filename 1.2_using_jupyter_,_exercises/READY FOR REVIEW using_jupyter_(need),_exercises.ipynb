{
 "cells": [
  {
   "attachments": {},
   "cell_type": "markdown",
   "id": "123456",
   "metadata": {},
   "source": [
    "<div style=\"text-align:left;font-size:2em\"><span style=\"font-weight:bolder;font-size:1.25em\">SP2273 | Learning Portfolio</span><br><br><span style=\"font-weight:bold;color:darkred\">Using Jupyter (Need), Exercises</span></div> "
   ]
  },
  {
   "attachments": {},
   "cell_type": "markdown",
   "id": "123456",
   "metadata": {},
   "source": [
    "## 1 Quadratic Equations"
   ]
  },
  {
   "attachments": {},
   "cell_type": "markdown",
   "id": "123456",
   "metadata": {},
   "source": [
    "### Introduction\n",
    "\n",
    "![](https://upload.wikimedia.org/wikipedia/commons/thumb/f/f8/Polynomialdeg2.svg/300px-Polynomialdeg2.svg.png)\n",
    "\n",
    "(Image from the [Wikipedia page on Quadratic equations](https://en.wikipedia.org/wiki/Quadratic_equation))\n",
    "\n",
    "The general form of a quadratic equation is: \n",
    "\n",
    "$$\n",
    "ax^2 + bx + c = 0\n",
    "$$"
   ]
  },
  {
   "attachments": {},
   "cell_type": "markdown",
   "id": "123456",
   "metadata": {},
   "source": [
    "### Solutions\n",
    "\n",
    "Provided $a \\ne 0$, we can use an elementary algebraic method called [completing the square](https://en.wikipedia.org/wiki/Completing_the_square) to show that a quadratic equation has the following solution:\n",
    "\n",
    "$$\n",
    "x = \\frac{-b\\pm\\sqrt{b^2-4ac}}{2a}\n",
    "$$"
   ]
  },
  {
   "attachments": {},
   "cell_type": "markdown",
   "id": "123456",
   "metadata": {},
   "source": [
    "### Discriminant\n",
    "\n",
    "The quantity $\\Delta = b^2-4ac$ is called the **discriminant** of the equation and decides the nature of its solutions. The table below shows the various possibilities. \n",
    "\n",
    "|Discriminant            |Roots                                |\n",
    "|:----------------------:|:------------------------------------|\n",
    "|$\\Delta = b^2-4ac = 0$  | A single solution of $-b/(2a)$      |\n",
    "|$\\Delta = b^2-4ac \\gt 0$| Two distint solutions               |\n",
    "|$\\Delta = b^2-4ac \\lt 0$| No real solutions; both are complex.|"
   ]
  },
  {
   "cell_type": "markdown",
   "id": "223a9858",
   "metadata": {},
   "source": [
    "## Exercise 2\n",
    "\n",
    "1. A repository is like a folder. All your codes can be stored as files in this folder.\n",
    "1. changes\n",
    "1. A commit lets you specify the changes that are tracked and reflected in the repository.\n",
    "1. A push updates the cloud with changes made in a local device.\n",
    "1. A pull updates the local device with changes made in the cloud.\n",
    "1. Repositories in GitHub are stored in the cloud, where anyone with access is allowed to view and edit the code. In GitHub Desktop, the repositories are stored in your local storage, so only you can view and edit them. "
   ]
  },
  {
   "cell_type": "markdown",
   "id": "5464825d",
   "metadata": {},
   "source": [
    "## Exercise 3\n",
    "\n",
    "$$\n",
    "\\mu = \\frac{1}{n} \\sum_{i=1}^{n}x_i\n",
    "$$\n",
    "\n",
    "$$\n",
    "\\sigma = \\sqrt{\\frac{1}{n} \\sum_{i=1}^{n}(x_i-\\mu)^2}\n",
    "$$\n",
    "\n",
    "$$\n",
    "r = \\frac{\\sum_{i=1}^{n}(x_i-\\mu_X)(y_i-\\mu_Y)}{\\sqrt{\\sum_{i=1}^{n}(x_i-\\mu_X)^2 \\sum_{i=1}^{n}(y_i-\\mu_Y)^2}}\n",
    "$$"
   ]
  }
 ],
 "metadata": {
  "kernelspec": {
   "display_name": "base",
   "language": "python",
   "name": "python3"
  },
  "language_info": {
   "codemirror_mode": {
    "name": "ipython",
    "version": 3
   },
   "file_extension": ".py",
   "mimetype": "text/x-python",
   "name": "python",
   "nbconvert_exporter": "python",
   "pygments_lexer": "ipython3",
   "version": "3.13.5"
  },
  "toc": {
   "base_numbering": 1,
   "nav_menu": {},
   "number_sections": true,
   "sideBar": true,
   "skip_h1_title": false,
   "title_cell": "Table of Contents",
   "title_sidebar": "Contents",
   "toc_cell": false,
   "toc_position": {},
   "toc_section_display": true,
   "toc_window_display": false
  }
 },
 "nbformat": 4,
 "nbformat_minor": 5
}
