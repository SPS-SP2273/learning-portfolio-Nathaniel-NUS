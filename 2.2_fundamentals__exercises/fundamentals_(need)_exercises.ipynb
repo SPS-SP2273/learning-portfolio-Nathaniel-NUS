{
 "cells": [
  {
   "attachments": {},
   "cell_type": "markdown",
   "id": "123456",
   "metadata": {},
   "source": [
    "<div style=\"text-align:left;font-size:2em\"><span style=\"font-weight:bolder;font-size:1.25em\">SP2273 | Learning Portfolio</span><br><br><span style=\"font-weight:bold;color:darkred\">Fundamentals (Need) Exercises</span></div>"
   ]
  },
  {
   "cell_type": "markdown",
   "id": "76b323a2",
   "metadata": {},
   "source": [
    "### Exercise 1"
   ]
  },
  {
   "cell_type": "markdown",
   "id": "6c260155",
   "metadata": {},
   "source": [
    "### Exercise 2"
   ]
  },
  {
   "cell_type": "code",
   "execution_count": 4,
   "id": "92a7b77b",
   "metadata": {},
   "outputs": [
    {
     "name": "stdout",
     "output_type": "stream",
     "text": [
      "3 4 5\n"
     ]
    }
   ],
   "source": [
    "import math\n",
    "x, y = 3, 4\n",
    "z = int(math.sqrt(x**2 + y**2))\n",
    "print(x, y, z)"
   ]
  },
  {
   "cell_type": "markdown",
   "id": "95cc9ee9",
   "metadata": {},
   "source": [
    "### Exercise 3"
   ]
  },
  {
   "cell_type": "markdown",
   "id": "15cf4faf",
   "metadata": {},
   "source": [
    "|#  | Term        | Description                                                                  |\n",
    "|:-:|:-----------:|:----------------------------------------------------------------------------:|\n",
    "|1  | Function    | Functions perform tasks when it is ran                                       |\n",
    "|2  | Arguments   | Arguments are information that the function needs to carry out its task      |\n",
    "|3  | Comments    | Comments are used to explain and describe code to other readers              |\n",
    "|4  | Indentations| Used to indicate a block of code                                             | \n",
    "|5  | Packages    | Adds more functionality that is not present in Python                        |\n",
    "|6  | `.`         | Used to call functions that belong to certain objects                        |\n",
    "|7  | `:`         | Used to designate a block of code                                            |\n",
    "|8  |`[]`         | Used to create 1 dimensional lists/ arrays                                   |\n",
    "|9  | `[[],[]]`   | Used to create 2 dimensional lists/ arrays                                   |\n",
    "|10 | `{}`        | Used to create sets or dictionaries                                          |  "
   ]
  },
  {
   "cell_type": "markdown",
   "id": "71349651",
   "metadata": {},
   "source": [
    "### Exercise 4"
   ]
  },
  {
   "cell_type": "code",
   "execution_count": null,
   "id": "037143bf",
   "metadata": {},
   "outputs": [
    {
     "name": "stdout",
     "output_type": "stream",
     "text": [
      "2.5\n"
     ]
    }
   ],
   "source": [
    "print(5/2)      # Normal Division"
   ]
  },
  {
   "cell_type": "code",
   "execution_count": null,
   "id": "50c8fd4b",
   "metadata": {},
   "outputs": [
    {
     "name": "stdout",
     "output_type": "stream",
     "text": [
      "2\n",
      "4\n"
     ]
    }
   ],
   "source": [
    "print(5//2)     # Floor Division (Divide and round down to nearest integer)"
   ]
  },
  {
   "cell_type": "code",
   "execution_count": null,
   "id": "88947172",
   "metadata": {},
   "outputs": [
    {
     "name": "stdout",
     "output_type": "stream",
     "text": [
      "1\n",
      "3\n"
     ]
    }
   ],
   "source": [
    "print(5%2)      # Modulo (Returns the remainder of the division)"
   ]
  }
 ],
 "metadata": {
  "kernelspec": {
   "display_name": "base",
   "language": "python",
   "name": "python3"
  },
  "language_info": {
   "codemirror_mode": {
    "name": "ipython",
    "version": 3
   },
   "file_extension": ".py",
   "mimetype": "text/x-python",
   "name": "python",
   "nbconvert_exporter": "python",
   "pygments_lexer": "ipython3",
   "version": "3.13.5"
  },
  "toc": {
   "base_numbering": 1,
   "nav_menu": {},
   "number_sections": true,
   "sideBar": true,
   "skip_h1_title": false,
   "title_cell": "Table of Contents",
   "title_sidebar": "Contents",
   "toc_cell": false,
   "toc_position": {},
   "toc_section_display": true,
   "toc_window_display": false
  }
 },
 "nbformat": 4,
 "nbformat_minor": 5
}
