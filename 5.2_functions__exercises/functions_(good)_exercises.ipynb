{
 "cells": [
  {
   "attachments": {},
   "cell_type": "markdown",
   "id": "123456",
   "metadata": {},
   "source": [
    "<div style=\"text-align:left;font-size:2em\"><span style=\"font-weight:bolder;font-size:1.25em\">SP2273 | Learning Portfolio</span><br><br><span style=\"font-weight:bold;color:darkred\">Functions (Good) Exercises</span></div>"
   ]
  },
  {
   "cell_type": "markdown",
   "id": "5a3fc2be",
   "metadata": {},
   "source": [
    "### Exercise 1"
   ]
  },
  {
   "cell_type": "code",
   "execution_count": 17,
   "id": "bc24d852",
   "metadata": {},
   "outputs": [
    {
     "name": "stdout",
     "output_type": "stream",
     "text": [
      "293.15 K\n",
      "68.0 F\n",
      "68.0 F\n"
     ]
    }
   ],
   "source": [
    "def convert_celsius(tempearture_celsius, target_scale = 'Fahrenheit'):\n",
    "    if target_scale == 'Kelvin':\n",
    "        tempearture_kelvin = tempearture_celsius + 273.15\n",
    "        print(f\"{tempearture_kelvin} K\")\n",
    "    else:\n",
    "        temperature_fahrenheit = (tempearture_celsius * 1.8) + 32\n",
    "        print(f\"{temperature_fahrenheit} F\")\n",
    "\n",
    "convert_celsius(20, \"Kelvin\")\n",
    "convert_celsius(20)\n",
    "convert_celsius(20, 'Fahrenheit')"
   ]
  },
  {
   "cell_type": "code",
   "execution_count": 19,
   "id": "60ed0507",
   "metadata": {},
   "outputs": [
    {
     "name": "stdout",
     "output_type": "stream",
     "text": [
      "305.3722222222222 K\n",
      "32.22222222222222 *C\n",
      "32.22222222222222 *C\n"
     ]
    }
   ],
   "source": [
    "def convert_fahrenheit(temperature_fahrenheit, target_scale = 'Celsius'):\n",
    "    if target_scale == 'Kelvin':\n",
    "        temperature_kelvin = ((temperature_fahrenheit - 32) / 1.8) + 273.15\n",
    "        print(f\"{temperature_kelvin} K\")\n",
    "    else:\n",
    "        temperature_celsius = (temperature_fahrenheit - 32) / 1.8\n",
    "        print(f\"{temperature_celsius} *C\")\n",
    "\n",
    "convert_fahrenheit(90, 'Kelvin')\n",
    "convert_fahrenheit(90)\n",
    "convert_fahrenheit(90, 'Celsius')\n"
   ]
  },
  {
   "cell_type": "code",
   "execution_count": null,
   "id": "0d40b077",
   "metadata": {},
   "outputs": [
    {
     "name": "stdout",
     "output_type": "stream",
     "text": [
      "-423.66999999999996 F\n"
     ]
    }
   ],
   "source": [
    "def convert_temperature(temperature, source_scale, target_scale):\n",
    "    if source_scale == 'Celsius':\n",
    "        return convert_celsius(temperature, target_scale)\n",
    "    elif source_scale == 'Fahrenheit':\n",
    "        return convert_fahrenheit(temperature, target_scale)\n",
    "    else: \n",
    "        if target_scale == \"Celsius\":\n",
    "            temperature_celsius = temperature - 273.15\n",
    "            print(f\"{temperature_celsius} *C\")\n",
    "        else:\n",
    "            temperature_fahrenheit = ((temperature - 273.15) * 1.8) + 32\n",
    "            print(f\"{temperature_fahrenheit} F\")\n",
    "\n"
   ]
  },
  {
   "cell_type": "code",
   "execution_count": 50,
   "id": "cb620c50",
   "metadata": {},
   "outputs": [
    {
     "name": "stdout",
     "output_type": "stream",
     "text": [
      "298.15 K\n",
      "77.0 F\n"
     ]
    }
   ],
   "source": [
    "#Converting from Celsius to Kelvin\n",
    "convert_temperature(25, \"Celsius\", \"Kelvin\")\n",
    "\n",
    "#Converting from Celsius to Fahrenheit \n",
    "convert_temperature(25, \"Celsius\", \"Fahrenheit\")"
   ]
  },
  {
   "cell_type": "code",
   "execution_count": null,
   "id": "9e8792d3",
   "metadata": {},
   "outputs": [
    {
     "name": "stdout",
     "output_type": "stream",
     "text": [
      "32.22222222222222 *C\n",
      "305.3722222222222 K\n"
     ]
    }
   ],
   "source": [
    "#Converting from Fahrenheit to Celsius \n",
    "convert_temperature(90, \"Fahrenheit\", \"Celsius\")\n",
    "\n",
    "#Converting from Fahrenheit to Kelvin\n",
    "convert_temperature(90, \"Fahrenheit\", \"Kelvin\")"
   ]
  },
  {
   "cell_type": "code",
   "execution_count": null,
   "id": "10d35cdb",
   "metadata": {},
   "outputs": [
    {
     "name": "stdout",
     "output_type": "stream",
     "text": [
      "20.0 *C\n",
      "68.0 F\n"
     ]
    }
   ],
   "source": [
    "#Converting from Kelvin to Celsius \n",
    "convert_temperature(293.15, \"Kelvin\", \"Celsius\")\n",
    "\n",
    "#Converting from Kelvin to Fahrenheit \n",
    "convert_temperature(293.15, \"Kelvin\", \"Fahrenheit\")"
   ]
  }
 ],
 "metadata": {
  "kernelspec": {
   "display_name": "base",
   "language": "python",
   "name": "python3"
  },
  "language_info": {
   "codemirror_mode": {
    "name": "ipython",
    "version": 3
   },
   "file_extension": ".py",
   "mimetype": "text/x-python",
   "name": "python",
   "nbconvert_exporter": "python",
   "pygments_lexer": "ipython3",
   "version": "3.13.5"
  },
  "toc": {
   "base_numbering": 1,
   "nav_menu": {},
   "number_sections": true,
   "sideBar": true,
   "skip_h1_title": false,
   "title_cell": "Table of Contents",
   "title_sidebar": "Contents",
   "toc_cell": false,
   "toc_position": {},
   "toc_section_display": true,
   "toc_window_display": false
  }
 },
 "nbformat": 4,
 "nbformat_minor": 5
}
