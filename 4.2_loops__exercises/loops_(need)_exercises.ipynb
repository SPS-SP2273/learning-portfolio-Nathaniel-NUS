{
 "cells": [
  {
   "attachments": {},
   "cell_type": "markdown",
   "id": "123456",
   "metadata": {},
   "source": [
    "<div style=\"text-align:left;font-size:2em\"><span style=\"font-weight:bolder;font-size:1.25em\">SP2273 | Learning Portfolio</span><br><br><span style=\"font-weight:bold;color:darkred\">Loops (Need) Exercises</span></div>"
   ]
  },
  {
   "cell_type": "markdown",
   "id": "84a09d0e",
   "metadata": {},
   "source": [
    "### Exercise 1"
   ]
  },
  {
   "cell_type": "code",
   "execution_count": 4,
   "id": "6894abbb",
   "metadata": {},
   "outputs": [
    {
     "name": "stdout",
     "output_type": "stream",
     "text": [
      " 0  *C,  32.0 F\n",
      " 5  *C,  41.0 F\n",
      " 10 *C,  50.0 F\n",
      " 15 *C,  59.0 F\n",
      " 20 *C,  68.0 F\n",
      " 25 *C,  77.0 F\n",
      " 30 *C,  86.0 F\n",
      " 35 *C,  95.0 F\n",
      " 40 *C,  104.0 F\n",
      " 45 *C,  113.0 F\n",
      " 50 *C,  122.0 F\n"
     ]
    }
   ],
   "source": [
    "temperatures_celsius = [0, 5, 10, 15, 20, 25, 30, 35, 40, 45, 50]\n",
    "for temp in temperatures_celsius:\n",
    "    temp_fahrenheit = (temp * 1.8) + 32\n",
    "    print(f\"{temp:< 3} *C, {temp_fahrenheit:< 4} F\")"
   ]
  },
  {
   "cell_type": "markdown",
   "id": "561a3c19",
   "metadata": {},
   "source": [
    "### Exercise 2"
   ]
  },
  {
   "cell_type": "markdown",
   "id": "238014b5",
   "metadata": {},
   "source": [
    "Example"
   ]
  },
  {
   "cell_type": "code",
   "execution_count": 19,
   "id": "4b2b53dc",
   "metadata": {},
   "outputs": [
    {
     "name": "stdout",
     "output_type": "stream",
     "text": [
      "A1\n",
      "A2\n",
      "A3\n",
      "B1\n",
      "B2\n",
      "B3\n",
      "C1\n",
      "C2\n",
      "C3\n"
     ]
    }
   ],
   "source": [
    "for letter in ['A', 'B', 'C']:\n",
    "    for number in [1,2,3]:\n",
    "        print(f\"{letter}{number}\")"
   ]
  },
  {
   "cell_type": "code",
   "execution_count": 21,
   "id": "5c225e6c",
   "metadata": {},
   "outputs": [
    {
     "name": "stdout",
     "output_type": "stream",
     "text": [
      "A1\n",
      "A2\n",
      "A3\n",
      "B1\n",
      "B2\n",
      "B3\n",
      "C1\n",
      "C2\n",
      "C3\n"
     ]
    }
   ],
   "source": [
    "for letter in ['A', 'B', 'C']:\n",
    "    for number in [1,2,3]:\n",
    "        print(f\"{letter}{number}\", sep = '---')\n",
    "\n",
    "#sep does not work as the outputs are all on different lines"
   ]
  },
  {
   "cell_type": "code",
   "execution_count": 22,
   "id": "a79042fb",
   "metadata": {},
   "outputs": [
    {
     "name": "stdout",
     "output_type": "stream",
     "text": [
      "A1\tA2\tA3\tB1\tB2\tB3\tC1\tC2\tC3\t"
     ]
    }
   ],
   "source": [
    "for letter in ['A', 'B', 'C']:\n",
    "    for number in [1,2,3]:\n",
    "        print(f\"{letter}{number}\", end = '\\t')  #Horizontal tab \n",
    "\n"
   ]
  },
  {
   "cell_type": "code",
   "execution_count": 25,
   "id": "e991c8d1",
   "metadata": {},
   "outputs": [
    {
     "name": "stdout",
     "output_type": "stream",
     "text": [
      "A1\tA2\tA3\t\n",
      "\n",
      "B1\tB2\tB3\t\n",
      "\n",
      "C1\tC2\tC3\t\n",
      "\n"
     ]
    }
   ],
   "source": [
    "for letter in ['A', 'B', 'C']:\n",
    "    for number in [1,2,3]:\n",
    "        print(f\"{letter}{number}\", end = '\\t')\n",
    "    print('\\n')\n",
    "\n",
    "# The line break is outside the loop. Each loop is separated into one line"
   ]
  },
  {
   "cell_type": "markdown",
   "id": "b83034c8",
   "metadata": {},
   "source": [
    "Task"
   ]
  },
  {
   "cell_type": "code",
   "execution_count": 97,
   "id": "e158d852",
   "metadata": {},
   "outputs": [
    {
     "name": "stdout",
     "output_type": "stream",
     "text": [
      "1 :\t1\t2\t3\t4\t5\t\n",
      "\n",
      "2 :\t2\t4\t6\t8\t10\t\n",
      "\n",
      "3 :\t3\t6\t9\t12\t15\t\n",
      "\n",
      "4 :\t4\t8\t12\t16\t20\t\n",
      "\n",
      "5 :\t5\t10\t15\t20\t25\t\n",
      "\n"
     ]
    }
   ],
   "source": [
    "multiples_list = [1,2,3,4,5]\n",
    "sequences_list = [1,2,3,4,5]\n",
    "for count, multiple in enumerate(multiples_list, 1): \n",
    "    print(f\"{count} :\",end = '\\t')\n",
    "    for sequence in sequences_list:\n",
    "        result = multiple*sequence\n",
    "        print(result, end = '\\t')\n",
    "    print('\\n')"
   ]
  },
  {
   "cell_type": "markdown",
   "id": "28c7d3f8",
   "metadata": {},
   "source": [
    "### Exercise 3"
   ]
  },
  {
   "cell_type": "code",
   "execution_count": 174,
   "id": "a72d34b6",
   "metadata": {},
   "outputs": [
    {
     "name": "stdout",
     "output_type": "stream",
     "text": [
      "Experiment 1: No. of Heads = 5\n",
      "Experiment 2: No. of Heads = 4\n",
      "Experiment 3: No. of Heads = 6\n",
      "Experiment 4: No. of Heads = 5\n",
      "Experiment 5: No. of Heads = 3\n",
      "Experiment 6: No. of Heads = 4\n",
      "Experiment 7: No. of Heads = 7\n",
      "Experiment 8: No. of Heads = 5\n",
      "Experiment 9: No. of Heads = 5\n",
      "Experiment 10: No. of Heads = 5\n"
     ]
    }
   ],
   "source": [
    "import numpy as np\n",
    "for i in range(1,11):\n",
    "    arr = np.random.rand(10)\n",
    "    arr_masked = arr[arr > 0.5]\n",
    "    count = len(arr_masked)\n",
    "    print(f\"Experiment {i}: No. of Heads = {count}\")"
   ]
  }
 ],
 "metadata": {
  "kernelspec": {
   "display_name": "base",
   "language": "python",
   "name": "python3"
  },
  "language_info": {
   "codemirror_mode": {
    "name": "ipython",
    "version": 3
   },
   "file_extension": ".py",
   "mimetype": "text/x-python",
   "name": "python",
   "nbconvert_exporter": "python",
   "pygments_lexer": "ipython3",
   "version": "3.13.5"
  },
  "toc": {
   "base_numbering": 1,
   "nav_menu": {},
   "number_sections": true,
   "sideBar": true,
   "skip_h1_title": false,
   "title_cell": "Table of Contents",
   "title_sidebar": "Contents",
   "toc_cell": false,
   "toc_position": {},
   "toc_section_display": true,
   "toc_window_display": false
  }
 },
 "nbformat": 4,
 "nbformat_minor": 5
}
