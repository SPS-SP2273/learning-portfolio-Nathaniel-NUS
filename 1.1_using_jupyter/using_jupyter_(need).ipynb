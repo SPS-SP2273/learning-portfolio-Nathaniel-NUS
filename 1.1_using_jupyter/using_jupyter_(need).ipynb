{
 "cells": [
  {
   "attachments": {},
   "cell_type": "markdown",
   "id": "123456",
   "metadata": {},
   "source": [
    "<div style=\"text-align:left;font-size:2em\"><span style=\"font-weight:bolder;font-size:1.25em\">SP2273 | Learning Portfolio</span><br><br><span style=\"font-weight:bold;color:darkred\">Using Jupyter (Need)</span></div>"
   ]
  },
  {
   "attachments": {},
   "cell_type": "markdown",
   "id": "ed7ad753",
   "metadata": {},
   "source": [
    "# 1 Getting ready"
   ]
  },
  {
   "attachments": {},
   "cell_type": "markdown",
   "id": "5c95eb49",
   "metadata": {},
   "source": [
    "# 2 Getting started with Jupyter"
   ]
  },
  {
   "attachments": {},
   "cell_type": "markdown",
   "id": "c9069fa4",
   "metadata": {},
   "source": [
    "## 2.1 It is all about running cells"
   ]
  },
  {
   "attachments": {},
   "cell_type": "markdown",
   "id": "eb68b121",
   "metadata": {},
   "source": [
    "## 2.2 A traditional start"
   ]
  },
  {
   "cell_type": "code",
   "execution_count": 1,
   "id": "c1571196-57bd-4ebe-bcab-ec8407af4626",
   "metadata": {},
   "outputs": [
    {
     "name": "stdout",
     "output_type": "stream",
     "text": [
      "Hello World\n"
     ]
    }
   ],
   "source": [
    "print(\"Hello World\")"
   ]
  },
  {
   "attachments": {},
   "cell_type": "markdown",
   "id": "55c2f947",
   "metadata": {},
   "source": [
    "# 3 All about Markdown"
   ]
  },
  {
   "attachments": {},
   "cell_type": "markdown",
   "id": "a1dc6a9a",
   "metadata": {},
   "source": [
    "## 3.1 Rendering Markdown cells"
   ]
  },
  {
   "cell_type": "markdown",
   "id": "74d0b27c-3cfd-4d65-b857-d195ce54c07b",
   "metadata": {},
   "source": [
    "The ships hung in the sky in much the same way that bricks don’t."
   ]
  },
  {
   "attachments": {},
   "cell_type": "markdown",
   "id": "5bcf20f6",
   "metadata": {},
   "source": [
    "## Some basic syntax\n",
    "---"
   ]
  },
  {
   "cell_type": "markdown",
   "id": "637ffaba-e174-4fae-b0af-aefe94ad7830",
   "metadata": {},
   "source": [
    "|Style                  |Syntax                |\n",
    "|:----------------------|:--------------------:|\n",
    "|Bold                   |`** **` or <br>`__ __`|\n",
    "|Italic                 |`* *` or `_`<br> `_`  |\n",
    "|All bold and <br>italic|`*** ***`             |\n",
    "|Subscript              | `<sub>` <br> `</sub>`|\n",
    "|Superscript            | `<sup>` <br> `</sup>`|"
   ]
  },
  {
   "cell_type": "markdown",
   "id": "0470b79c",
   "metadata": {},
   "source": [
    "Example from the Python Website:\n",
    "\n",
    "The ships *hung in the sky* in much the same way that **bricks don't.**<sup>1</sup><sub>QUOTE</sub>"
   ]
  },
  {
   "attachments": {},
   "cell_type": "markdown",
   "id": "96843cc8",
   "metadata": {},
   "source": [
    "## 3.3 Headings\n",
    "-----"
   ]
  },
  {
   "attachments": {},
   "cell_type": "markdown",
   "id": "8fae639a",
   "metadata": {},
   "source": [
    "## 3.4 Displaying Code"
   ]
  },
  {
   "attachments": {},
   "cell_type": "markdown",
   "id": "bee5fcb9",
   "metadata": {},
   "source": [
    "## Links\n",
    "---"
   ]
  },
  {
   "cell_type": "markdown",
   "id": "7a6a26e6",
   "metadata": {},
   "source": [
    "Syntax: `[Display Text](Link)`"
   ]
  },
  {
   "cell_type": "markdown",
   "id": "ec3663e8",
   "metadata": {},
   "source": [
    "Example: Inserting a link to the SP2273 Website\n",
    "\n",
    "[SP2273 Website](https://sps.nus.edu.sg/sp2273)"
   ]
  },
  {
   "attachments": {},
   "cell_type": "markdown",
   "id": "b7a76a94",
   "metadata": {},
   "source": [
    "## Images\n",
    "---"
   ]
  },
  {
   "cell_type": "markdown",
   "id": "20ca2dc9",
   "metadata": {},
   "source": [
    "Syntax: `![](Link)`"
   ]
  },
  {
   "cell_type": "markdown",
   "id": "72f1a99d",
   "metadata": {},
   "source": [
    "Example from the Python site: Generating the NUS Logo \n",
    "\n",
    "![](https://nus.edu.sg/images/default-source/base/logo.png)"
   ]
  },
  {
   "cell_type": "markdown",
   "id": "852be715",
   "metadata": {},
   "source": [
    "Another Example: \n",
    "\n",
    "![](https://media.tenor.com/UWHgJ8QRcZsAAAAe/turtle-huh-meme.png)"
   ]
  },
  {
   "attachments": {},
   "cell_type": "markdown",
   "id": "7fbd62b5",
   "metadata": {},
   "source": [
    "## 3.7 Tables"
   ]
  },
  {
   "attachments": {},
   "cell_type": "markdown",
   "id": "b5911446",
   "metadata": {},
   "source": [
    "## 3.8 Lists"
   ]
  },
  {
   "attachments": {},
   "cell_type": "markdown",
   "id": "994e37bf",
   "metadata": {},
   "source": [
    "## 3.9 Equations"
   ]
  },
  {
   "cell_type": "markdown",
   "id": "fc2e39cd",
   "metadata": {},
   "source": [
    "## Additional things that I found out "
   ]
  },
  {
   "cell_type": "markdown",
   "id": "45d71924",
   "metadata": {},
   "source": [
    "Syntax for dividers: `---` \n",
    "\n",
    "Syntax for line breaks: `<br>` <br> Anything after it will be on the next line"
   ]
  },
  {
   "cell_type": "markdown",
   "id": "c33193f8",
   "metadata": {},
   "source": [
    "Centering Text: `<center>Text</center>` <br>\n",
    "Example: <center>This text is centered</center>\n",
    "<br><br>\n",
    "Underlining Text: `<ins>Text</ins>` <br>\n",
    "Example: <ins>This part is underlined</ins> but this part is not  <br><br>\n",
    "\n",
    "Coloring Text: `<font color = \"colour\">Text</font>`<br>\n",
    "Example: <font color = #FFD700 >This text is yellow</font>\n",
    "\n",
    "Font Size: `<font size = number>Text</font>`<br>\n",
    "Example: <font size = 14>This part is big</font>, <font size = 1>this part is small</font>, <font size = 3>and this part is normal</font>"
   ]
  }
 ],
 "metadata": {
  "kernelspec": {
   "display_name": "base",
   "language": "python",
   "name": "python3"
  },
  "language_info": {
   "codemirror_mode": {
    "name": "ipython",
    "version": 3
   },
   "file_extension": ".py",
   "mimetype": "text/x-python",
   "name": "python",
   "nbconvert_exporter": "python",
   "pygments_lexer": "ipython3",
   "version": "3.13.5"
  },
  "toc": {
   "base_numbering": 1,
   "nav_menu": {},
   "number_sections": true,
   "sideBar": true,
   "skip_h1_title": false,
   "title_cell": "Table of Contents",
   "title_sidebar": "Contents",
   "toc_cell": false,
   "toc_position": {},
   "toc_section_display": true,
   "toc_window_display": false
  }
 },
 "nbformat": 4,
 "nbformat_minor": 5
}
