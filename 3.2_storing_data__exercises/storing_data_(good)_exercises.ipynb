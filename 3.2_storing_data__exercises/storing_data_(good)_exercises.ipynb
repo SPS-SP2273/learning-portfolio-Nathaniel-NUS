{
 "cells": [
  {
   "attachments": {},
   "cell_type": "markdown",
   "id": "123456",
   "metadata": {},
   "source": [
    "<div style=\"text-align:left;font-size:2em\"><span style=\"font-weight:bolder;font-size:1.25em\">SP2273 | Learning Portfolio</span><br><br><span style=\"font-weight:bold;color:darkred\">Storing Data (Good) Exercises</span></div>"
   ]
  },
  {
   "cell_type": "markdown",
   "id": "c10bd355",
   "metadata": {},
   "source": [
    "### Exercise 1"
   ]
  },
  {
   "cell_type": "markdown",
   "id": "605710ee",
   "metadata": {},
   "source": [
    "| Term       | Brief Description                                              |\n",
    "|------------|----------------------------------------------------------------|\n",
    "| Subsetting | _Selecting part(s) of the original list/ array_                 |\n",
    "| Indexing   | _Selecting one element from the list/ array_                  |\n",
    "| Slicing    | _Selecting a range of elements from the list/array_           |\n",
    "| Masking    | Returns a filtered list with elements that result in   \"True\"  |"
   ]
  },
  {
   "cell_type": "markdown",
   "id": "734328b2",
   "metadata": {},
   "source": [
    "### Exercise 2 "
   ]
  },
  {
   "cell_type": "code",
   "execution_count": 32,
   "id": "046c9cc6",
   "metadata": {},
   "outputs": [
    {
     "data": {
      "text/plain": [
       "array(['A', 'C', 'E', 'G', 'I'], dtype='<U21')"
      ]
     },
     "execution_count": 32,
     "metadata": {},
     "output_type": "execute_result"
    }
   ],
   "source": [
    "import numpy as np\n",
    "np_array_2d = np.array([[1, \"A\"], [3, \"C\"], [2, \"B\"], [4, \"D\"],\n",
    "                        [5, \"E\"], [7, \"G\"], [6, \"F\"], [8, \"H\"],\n",
    "                        [10, \"J\"], [9, \"I\"]])\n",
    "\n",
    "arr_1 = np_array_2d[:,0]\n",
    "arr_2 = arr_1.astype('i')\n",
    "arr_3 = arr_2 % 2\n",
    "mask = arr_3 == 1\n",
    "np_array_2d[mask,1]"
   ]
  },
  {
   "cell_type": "markdown",
   "id": "35454972",
   "metadata": {},
   "source": [
    "### Exercise 3"
   ]
  },
  {
   "cell_type": "code",
   "execution_count": 33,
   "id": "7a580585",
   "metadata": {},
   "outputs": [
    {
     "name": "stdout",
     "output_type": "stream",
     "text": [
      "[[ 1  0  1 -1 -1]\n",
      " [ 1 -1  1 -1 -1]\n",
      " [ 1 -1 -1  1 -1]\n",
      " [-1  1  1 -1 -1]\n",
      " [ 1 -1  1 -1  1]]\n"
     ]
    }
   ],
   "source": [
    "import numpy as np\n",
    "arr = np.array([[66, 50, 57, -1, -1],\n",
    "        [92, -1, 88, -1, -1],\n",
    "        [75, -1, -1, 76, -1],\n",
    "        [-1, 51, 87, -1, -1],\n",
    "        [71, -1, 67, -1, 69]])\n",
    "\n",
    "arr[arr < 50] =-1\n",
    "arr[arr > 50] = 1\n",
    "arr[arr == 50] = 0\n",
    "print(arr)"
   ]
  }
 ],
 "metadata": {
  "kernelspec": {
   "display_name": "base",
   "language": "python",
   "name": "python3"
  },
  "language_info": {
   "codemirror_mode": {
    "name": "ipython",
    "version": 3
   },
   "file_extension": ".py",
   "mimetype": "text/x-python",
   "name": "python",
   "nbconvert_exporter": "python",
   "pygments_lexer": "ipython3",
   "version": "3.13.5"
  },
  "toc": {
   "base_numbering": 1,
   "nav_menu": {},
   "number_sections": true,
   "sideBar": true,
   "skip_h1_title": false,
   "title_cell": "Table of Contents",
   "title_sidebar": "Contents",
   "toc_cell": false,
   "toc_position": {},
   "toc_section_display": true,
   "toc_window_display": false
  }
 },
 "nbformat": 4,
 "nbformat_minor": 5
}
